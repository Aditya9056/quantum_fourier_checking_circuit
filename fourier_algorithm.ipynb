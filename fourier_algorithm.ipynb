{
 "metadata": {
  "language_info": {
   "codemirror_mode": {
    "name": "ipython",
    "version": 3
   },
   "file_extension": ".py",
   "mimetype": "text/x-python",
   "name": "python",
   "nbconvert_exporter": "python",
   "pygments_lexer": "ipython3",
   "version": "3.9.1-final"
  },
  "orig_nbformat": 2,
  "kernelspec": {
   "name": "python3",
   "display_name": "Python 3.9.1 64-bit",
   "metadata": {
    "interpreter": {
     "hash": "20eddb88e84b890ceadbab4b6643a521e9e86e5ffa60a4c079065db218a25de9"
    }
   }
  }
 },
 "nbformat": 4,
 "nbformat_minor": 2,
 "cells": [
  {
   "cell_type": "code",
   "execution_count": 1,
   "metadata": {},
   "outputs": [],
   "source": [
    "import qiskit.quantum_info as qi\n",
    "import matplotlib\n",
    "from qiskit.circuit.library import FourierChecking\n",
    "from qiskit.visualization import plot_histogram"
   ]
  },
  {
   "cell_type": "code",
   "execution_count": 2,
   "metadata": {},
   "outputs": [],
   "source": [
    "f = [1,-1,-1,-1]\n",
    "g = [1,1,-1,-1]"
   ]
  },
  {
   "cell_type": "code",
   "execution_count": 3,
   "metadata": {},
   "outputs": [
    {
     "output_type": "execute_result",
     "data": {
      "text/plain": [
       "     ┌───┐┌───────────────────────┐┌───┐┌──────────────────────┐┌───┐\n",
       "q_0: ┤ H ├┤0                      ├┤ H ├┤0                     ├┤ H ├\n",
       "     ├───┤│  DIAGONAL(1,-1,-1,-1) │├───┤│  DIAGONAL(1,1,-1,-1) │├───┤\n",
       "q_1: ┤ H ├┤1                      ├┤ H ├┤1                     ├┤ H ├\n",
       "     └───┘└───────────────────────┘└───┘└──────────────────────┘└───┘"
      ],
      "text/html": "<pre style=\"word-wrap: normal;white-space: pre;background: #fff0;line-height: 1.1;font-family: &quot;Courier New&quot;,Courier,monospace\">     ┌───┐┌───────────────────────┐┌───┐┌──────────────────────┐┌───┐\nq_0: ┤ H ├┤0                      ├┤ H ├┤0                     ├┤ H ├\n     ├───┤│  DIAGONAL(1,-1,-1,-1) │├───┤│  DIAGONAL(1,1,-1,-1) │├───┤\nq_1: ┤ H ├┤1                      ├┤ H ├┤1                     ├┤ H ├\n     └───┘└───────────────────────┘└───┘└──────────────────────┘└───┘</pre>"
     },
     "metadata": {},
     "execution_count": 3
    }
   ],
   "source": [
    "circ = FourierChecking(f=f, g=g)\n",
    "circ.draw()"
   ]
  },
  {
   "cell_type": "code",
   "execution_count": 11,
   "metadata": {},
   "outputs": [
    {
     "output_type": "error",
     "ename": "ImportError",
     "evalue": "Must have Matplotlib installed.",
     "traceback": [
      "\u001b[1;31m---------------------------------------------------------------------------\u001b[0m",
      "\u001b[1;31mImportError\u001b[0m                               Traceback (most recent call last)",
      "\u001b[1;32m<ipython-input-11-1d5e5dc6e5d4>\u001b[0m in \u001b[0;36m<module>\u001b[1;34m\u001b[0m\n\u001b[0;32m      2\u001b[0m \u001b[0msv\u001b[0m \u001b[1;33m=\u001b[0m \u001b[0mzero\u001b[0m\u001b[1;33m.\u001b[0m\u001b[0mevolve\u001b[0m\u001b[1;33m(\u001b[0m\u001b[0mcirc\u001b[0m\u001b[1;33m)\u001b[0m\u001b[1;33m\u001b[0m\u001b[1;33m\u001b[0m\u001b[0m\n\u001b[0;32m      3\u001b[0m \u001b[0mprob\u001b[0m \u001b[1;33m=\u001b[0m \u001b[0msv\u001b[0m\u001b[1;33m.\u001b[0m\u001b[0mprobabilities_dict\u001b[0m\u001b[1;33m(\u001b[0m\u001b[1;33m)\u001b[0m\u001b[1;33m\u001b[0m\u001b[1;33m\u001b[0m\u001b[0m\n\u001b[1;32m----> 4\u001b[1;33m \u001b[0mplot_histogram\u001b[0m\u001b[1;33m(\u001b[0m\u001b[0mprob\u001b[0m\u001b[1;33m)\u001b[0m\u001b[1;33m\u001b[0m\u001b[1;33m\u001b[0m\u001b[0m\n\u001b[0m",
      "\u001b[1;32m~\\AppData\\Local\\Programs\\Python\\Python39\\lib\\site-packages\\qiskit\\visualization\\counts_visualization.py\u001b[0m in \u001b[0;36mplot_histogram\u001b[1;34m(data, figsize, color, number_to_keep, sort, target_string, legend, bar_labels, title, ax)\u001b[0m\n\u001b[0;32m    100\u001b[0m     \"\"\"\n\u001b[0;32m    101\u001b[0m     \u001b[1;32mif\u001b[0m \u001b[1;32mnot\u001b[0m \u001b[0mHAS_MATPLOTLIB\u001b[0m\u001b[1;33m:\u001b[0m\u001b[1;33m\u001b[0m\u001b[1;33m\u001b[0m\u001b[0m\n\u001b[1;32m--> 102\u001b[1;33m         \u001b[1;32mraise\u001b[0m \u001b[0mImportError\u001b[0m\u001b[1;33m(\u001b[0m\u001b[1;34m'Must have Matplotlib installed.'\u001b[0m\u001b[1;33m)\u001b[0m\u001b[1;33m\u001b[0m\u001b[1;33m\u001b[0m\u001b[0m\n\u001b[0m\u001b[0;32m    103\u001b[0m     \u001b[1;32mif\u001b[0m \u001b[0msort\u001b[0m \u001b[1;32mnot\u001b[0m \u001b[1;32min\u001b[0m \u001b[0mVALID_SORTS\u001b[0m\u001b[1;33m:\u001b[0m\u001b[1;33m\u001b[0m\u001b[1;33m\u001b[0m\u001b[0m\n\u001b[0;32m    104\u001b[0m         raise VisualizationError(\"Value of sort option, %s, isn't a \"\n",
      "\u001b[1;31mImportError\u001b[0m: Must have Matplotlib installed."
     ]
    }
   ],
   "source": [
    "zero = qi.Statevector.from_label('00')\n",
    "sv = zero.evolve(circ)\n",
    "prob = sv.probabilities_dict()\n",
    "plot_histogram(prob)"
   ]
  },
  {
   "cell_type": "code",
   "execution_count": null,
   "metadata": {},
   "outputs": [],
   "source": []
  }
 ]
}